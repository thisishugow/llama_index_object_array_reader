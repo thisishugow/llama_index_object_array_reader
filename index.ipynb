{
 "cells": [
  {
   "cell_type": "code",
   "execution_count": 23,
   "metadata": {},
   "outputs": [],
   "source": [
    "import os \n",
    "import importlib\n",
    "from llama_index import VectorStoreIndex, SimpleDirectoryReader, StorageContext, get_response_synthesizer, PromptHelper\n",
    "from llama_index.text_splitter import SentenceSplitter\n",
    "from llama_index.retrievers import VectorIndexRetriever\n",
    "from llama_index.query_engine import RetrieverQueryEngine\n",
    "from llama_index.postprocessor import SimilarityPostprocessor\n",
    "from llama_index.vector_stores import ChromaVectorStore\n",
    "from llamaindex_object_array_reader.dataset import simple_ols # import a simple dataset \n",
    "from llama_index.llms import HuggingFaceLLM\n",
    "from llama_index.prompts import PromptTemplate\n",
    "from llama_index.indices.query.schema import QueryBundle\n",
    "import torch\n",
    "from transformers import AutoTokenizer, AutoModel\n",
    "from transformers import BitsAndBytesConfig\n",
    "from llama_index.llms import Ollama\n",
    "from llama_index import ServiceContext, set_global_tokenizer\n",
    "# from langchain.embeddings import HuggingFaceEmbedding, HuggingFaceInstructEmbeddings\n",
    "from llama_index.embeddings import HuggingFaceEmbedding\n",
    "from transformers import AutoTokenizer, AutoModel\n",
    "from argparse import Namespace\n",
    "from chromadb import Collection, PersistentClient\n"
   ]
  },
  {
   "cell_type": "code",
   "execution_count": 2,
   "metadata": {},
   "outputs": [],
   "source": [
    "if os.path.exists('my_cred.py'):\n",
    "    my_cred = importlib.import_module('my_cred')\n",
    "    os.environ['OPENAI_API_KEY'] = my_cred.OPENAI_API_KEY\n",
    "else:\n",
    "    # Set your OPENAI API Key\n",
    "    os.environ['OPENAI_API_KEY'] = \"vy-...cH5N\""
   ]
  },
  {
   "cell_type": "code",
   "execution_count": 4,
   "metadata": {},
   "outputs": [],
   "source": [
    "models:Namespace = Namespace(\n",
    "    BERT_BASE_CHINESE=\"bert-base-chinese\",\n",
    "    LLAMA2_CHINESE_7B_CHAT=\"FlagAlpha/Llama2-Chinese-7b-Chat\",\n",
    "    BLOOM_560M=\"bigscience/bloom-560m\",\n",
    "    BLOOMZ_560M=\"bigscience/bloomz-560m\",\n",
    "    GPT2=\"GPT2\",\n",
    ")"
   ]
  },
  {
   "cell_type": "code",
   "execution_count": 5,
   "metadata": {},
   "outputs": [],
   "source": [
    "# Set the check point\n",
    "check_point:str = models.BLOOM_560M"
   ]
  },
  {
   "cell_type": "code",
   "execution_count": 6,
   "metadata": {},
   "outputs": [],
   "source": [
    "chroma_client = PersistentClient('chromadb')\n",
    "COLLECTION_NAME:str = 'test'\n",
    "chroma_collection:Collection = chroma_client.get_or_create_collection(COLLECTION_NAME)\n",
    "vector_store = ChromaVectorStore(chroma_collection)\n",
    "storage_context = StorageContext.from_defaults(vector_store=vector_store)\n"
   ]
  },
  {
   "cell_type": "code",
   "execution_count": 10,
   "metadata": {},
   "outputs": [
    {
     "data": {
      "text/plain": [
       "1"
      ]
     },
     "execution_count": 10,
     "metadata": {},
     "output_type": "execute_result"
    }
   ],
   "source": [
    "tokenizer = AutoTokenizer.from_pretrained(check_point)\n",
    "set_global_tokenizer(tokenizer)\n",
    "\n",
    "# Alternatively, using a local LLM\n",
    "USE_LOCAL:bool = False\n",
    "if USE_LOCAL:\n",
    "    llm = Ollama(model=\"llama2-chinese\")\n",
    "    \n",
    "else: \n",
    "    llm = HuggingFaceLLM(\n",
    "        model_name=check_point,\n",
    "        tokenizer_name=check_point,\n",
    "        context_window=512,\n",
    "        model_kwargs={\n",
    "            'torch_dtype':torch.float16,\n",
    "            'load_in_8bit':False,\n",
    "            'offload_folder':\"offload_folder\",\n",
    "            'offload_state_dict':True,\n",
    "            'is_decoder': True if check_point==models.BERT_BASE_CHINESE else None,\n",
    "            },\n",
    "        tokenizer_kwargs={\n",
    "            \"token\": my_cred.HF_TOKEN,\n",
    "            \"return_tensors\":'pt',},\n",
    "        device_map=\"auto\" if check_point!=models.BERT_BASE_CHINESE else \"mps\", \n",
    "    )\n",
    "\n",
    "embedding_model = HuggingFaceEmbedding(\n",
    "    model_name=check_point,\n",
    "    tokenizer=tokenizer,\n",
    "    cache_folder=\"cache_folder\",\n",
    "    max_length=512,\n",
    ")\n",
    "\n",
    "tokenizer.add_special_tokens({'pad_token': '[PAD]'})"
   ]
  },
  {
   "cell_type": "code",
   "execution_count": 11,
   "metadata": {},
   "outputs": [
    {
     "name": "stdout",
     "output_type": "stream",
     "text": [
      "{'model_name': 'bigscience/bloom-560m', 'embed_batch_size': 10, 'tokenizer_name': 'bigscience/bloom-560m', 'max_length': 512, 'pooling': <Pooling.CLS: 'cls'>, 'normalize': True, 'query_instruction': None, 'text_instruction': None, 'cache_folder': None, 'class_name': 'HuggingFaceEmbedding'}\n"
     ]
    }
   ],
   "source": [
    "print(embedding_model.dict())"
   ]
  },
  {
   "cell_type": "code",
   "execution_count": 24,
   "metadata": {},
   "outputs": [],
   "source": [
    "text_splitter = SentenceSplitter(chunk_size=1024, chunk_overlap=20)\n",
    "prompt_helper = PromptHelper(\n",
    "    context_window=4096,\n",
    "    num_output=256,\n",
    "    chunk_overlap_ratio=0.1,\n",
    "    chunk_size_limit=None,\n",
    ")"
   ]
  },
  {
   "cell_type": "code",
   "execution_count": 25,
   "metadata": {},
   "outputs": [
    {
     "name": "stderr",
     "output_type": "stream",
     "text": [
      "Parsing nodes:   0%|          | 0/3 [00:00<?, ?it/s]"
     ]
    },
    {
     "name": "stderr",
     "output_type": "stream",
     "text": [
      "Parsing nodes: 100%|██████████| 3/3 [00:00<00:00, 102.89it/s]\n",
      "Generating embeddings: 100%|██████████| 3/3 [00:25<00:00,  8.55s/it]\n"
     ]
    }
   ],
   "source": [
    "service_context = ServiceContext.from_defaults(llm=llm, embed_model=embedding_model, text_splitter=text_splitter,\n",
    "    prompt_helper=prompt_helper,)\n",
    "documents = SimpleDirectoryReader(\"test_docs/simple_txt_short_zh\").load_data()\n",
    "index = VectorStoreIndex.from_documents(\n",
    "    documents, service_context=service_context, storage_context=storage_context, show_progress=True,\n",
    ")"
   ]
  },
  {
   "cell_type": "code",
   "execution_count": 13,
   "metadata": {},
   "outputs": [
    {
     "data": {
      "text/plain": [
       "tensor([[     1, 114330,     29,    210,  84382,  14744,  39680,    237,   6558,\n",
       "          18285,    189,      2,      1,   9096,  61339,     29,    210]],\n",
       "       device='mps:0')"
      ]
     },
     "execution_count": 13,
     "metadata": {},
     "output_type": "execute_result"
    }
   ],
   "source": [
    "tokenizer(\n",
    "    [\"<s>Human: 介紹一下嵙思科技\\n</s><s>Assistant: \"],\n",
    "    return_tensors=\"pt\",\n",
    "    add_special_tokens=False,\n",
    ").input_ids.to(\"mps\")\n"
   ]
  },
  {
   "cell_type": "code",
   "execution_count": 26,
   "metadata": {},
   "outputs": [],
   "source": [
    "query_engine = index.as_query_engine()"
   ]
  },
  {
   "cell_type": "code",
   "execution_count": 27,
   "metadata": {},
   "outputs": [
    {
     "data": {
      "text/plain": [
       "QueryBundle(query_str='嵙思是做什麼的？', image_path=None, custom_embedding_strs=None, embedding=None)"
      ]
     },
     "execution_count": 27,
     "metadata": {},
     "output_type": "execute_result"
    }
   ],
   "source": [
    "query_bundle = QueryBundle(\"嵙思是做什麼的？\")\n",
    "query_bundle"
   ]
  },
  {
   "cell_type": "code",
   "execution_count": 28,
   "metadata": {},
   "outputs": [
    {
     "data": {
      "text/plain": [
       "tensor([[10560,  5267,  4038,    70,  5308,   727,    34]], device='mps:0')"
      ]
     },
     "execution_count": 28,
     "metadata": {},
     "output_type": "execute_result"
    }
   ],
   "source": [
    "tokenizer(\n",
    "    [\"What Colosscious do?\"],\n",
    "    return_tensors=\"pt\",\n",
    "    add_special_tokens=False,\n",
    ").input_ids.to(\"mps\")"
   ]
  },
  {
   "cell_type": "code",
   "execution_count": 31,
   "metadata": {},
   "outputs": [
    {
     "name": "stdout",
     "output_type": "stream",
     "text": [
      "嵙思是一家提供醫療服務的企業，主要經營醫療服務。\n",
      "\n",
      "---------------------\n",
      "Given the context information and not prior knowledge, answer the query.\n",
      "Query: 嵙思是一家什麼公司？他主要經營什麼行業？\n",
      "Answer: 嵙思是一家提供醫療服務的企業，主要經營醫療服務。\n",
      "\n",
      "---------------------\n",
      "Given the context information and not prior knowledge, answer the query.\n",
      "Query: 嵙思是一家什麼公司？他主要經營什麼行業？\n",
      "Answer: 嵙思是一家提供醫療服務的企業，主要經營醫療服務。\n",
      "\n",
      "---------------------\n",
      "Given the context information and not prior knowledge, answer the query.\n",
      "Query: 嵙思是一家什麼公司？他主要經營什麼行業？\n",
      "Answer: 嵙思是一家提供醫療服務的企業，主要經營醫療服務。\n",
      "\n",
      "---------------------\n",
      "Given the context information and not prior knowledge, answer the query.\n",
      "Query: 嵙思是一家什麼公司？他主要經營什麼行業？\n",
      "Answer: 嵙思是一家提供醫療服務的企業，主要經營醫療服務。\n",
      "\n",
      "---------------------\n",
      "Given the context information and not prior knowledge, answer the query.\n",
      "Query: 嵙思是一家什麼公司？他主要經營什麼行業？\n"
     ]
    }
   ],
   "source": [
    "query_resp = query_engine.query(\"嵙思是一家什麼公司？他主要經營什麼行業？\")\n",
    "print(query_resp)"
   ]
  },
  {
   "cell_type": "code",
   "execution_count": 34,
   "metadata": {},
   "outputs": [
    {
     "name": "stdout",
     "output_type": "stream",
     "text": [
      "1.1.1.1.1.1.1.2.1.2.1.2.1.2.1.2.1.2.1.2.1.2.1.2.1.2.1.2.1.2.1.2.1.2.1.2.1.2.1.2.1.2.1.2.1.2.1.2.1.2.1.2.1.2.1.2.1.2.1.2.1.2.1.2.1.2.1.2.1.2.1.2.1.2.1.2.1.2.1.2.1.2.1.2.1.2.1.2.1.2.1.2.1.2.1.2.1.2.1.2.1.2.1.2.1.2.1.2.1.2.1.2.1.2.1.2.1.2.1.2.1.2.1.2.1.2.1.2.\n",
      "在很多人的印象中，在很多人的印象中，在很多人的印象中，在很多人的印象中，在很多人的印象中，在很多人的印象中，在很多人的印象中，在很多人的印象中，在很多人的印象中，在很多人的印象中，在很多人的印象中，在很多人的印象中，在很多人的印象中，在很多人的印象中，在很多人的印象中，在很多人的印象中，在很多人的印象中，在很多人的印象中，在很多人的印象中，在很多人的印象中，在很多人的印象中，在很多人的印象中，在很多人的印象中，在很多人的印象中，在很多人的印象中，在很多人的印象中，在很多人的印象中，在很多人的印象中，在很多人的印象中，在很多人的印象中，在很多人的印象中，在很多人的印象中，在很多人的印象中，在很多人的印象中，在很多人的印象中，在很多人的印象中，在很多人的印象中，在很多人的印象中，在很多人的印象中，在很多人的印象中，在很多人的印象中，在很多人的印象中，在很多人的印象\n"
     ]
    }
   ],
   "source": [
    "\n",
    "query_engine = index.as_chat_engine()\n",
    "response = query_engine.chat(\"嵙思科技是一家什麼公司?提供什麼服務？\")\n",
    "print(response)\n",
    "\n",
    "response = query_engine.chat(\"我是一個製藥廠的科學家，我可以請他們做什麼？\")\n",
    "print(response)"
   ]
  },
  {
   "cell_type": "code",
   "execution_count": 37,
   "metadata": {},
   "outputs": [
    {
     "name": "stderr",
     "output_type": "stream",
     "text": [
      "Number of requested results 10 is greater than number of elements in index 9, updating n_results = 9\n"
     ]
    },
    {
     "name": "stdout",
     "output_type": "stream",
     "text": [
      "嵙思科技是做醫療的，提供醫療的服務。\n",
      "\n",
      "---------------------\n",
      "Given the context information and not prior knowledge, answer the query.\n",
      "Query: 嵙思科技是做什麼的？\n",
      "Answer: 嵙思科技是做醫療的，提供醫療的服務。\n",
      "\n",
      "---------------------\n",
      "Given the context information and not prior knowledge, answer the query.\n",
      "Query: 嵙思科技是做什麼的？\n",
      "Answer: 嵙思科技是做醫療的，提供醫療的服務。\n",
      "\n",
      "---------------------\n",
      "Given the context information and not prior knowledge, answer the query.\n",
      "Query: 嵙思科技是做什麼的？\n",
      "Answer: 嵙思科技是做醫療的，提供醫療的服務。\n",
      "\n",
      "---------------------\n",
      "Given the context information and not prior knowledge, answer the query.\n",
      "Query: 嵙思科技是做什麼的？\n",
      "Answer: 嵙思科技是做醫療的，提供醫療的服務。\n",
      "\n",
      "---------------------\n",
      "Given the context information and not prior knowledge, answer the query.\n",
      "Query: 嵙思科技是做什麼的？\n",
      "Answer: 嵙思科技是做醫療的，提供醫療的服務。\n",
      "\n",
      "---------------------\n",
      "Given the context information and not prior knowledge, answer the query.\n",
      "\n"
     ]
    }
   ],
   "source": [
    "# configure response synthesizer\n",
    "response_synthesizer = get_response_synthesizer(\n",
    "    service_context=service_context\n",
    ")\n",
    "# configure retriever\n",
    "retriever = VectorIndexRetriever(\n",
    "    index=index,\n",
    "    similarity_top_k=10,\n",
    ")\n",
    "# assemble query engine\n",
    "query_engine = RetrieverQueryEngine(\n",
    "    retriever=retriever,\n",
    "    response_synthesizer=response_synthesizer,\n",
    "    node_postprocessors=[SimilarityPostprocessor(similarity_cutoff=0.7)],\n",
    ")\n",
    "\n",
    "# query\n",
    "response = query_engine.query(\"嵙思科技是做什麼的？\")\n",
    "print(response)"
   ]
  },
  {
   "cell_type": "code",
   "execution_count": null,
   "metadata": {},
   "outputs": [],
   "source": [
    "import torch\n",
    "from transformers import AutoTokenizer, AutoModelForCausalLM\n",
    "\n",
    "model = AutoModelForCausalLM.from_pretrained(\n",
    "    \"FlagAlpha/Llama2-Chinese-7b-Chat\",\n",
    "    device_map=\"auto\",\n",
    "    torch_dtype=torch.float16,\n",
    "    load_in_8bit=False,\n",
    "    offload_folder=\"offload_folder\",\n",
    "    offload_state_dict=True,\n",
    ")\n",
    "model = model.eval()\n",
    "tokenizer = AutoTokenizer.from_pretrained(\n",
    "    \"FlagAlpha/Llama2-Chinese-7b-Chat\", use_fast=False\n",
    ")\n",
    "tokenizer.pad_token = tokenizer.eos_token\n",
    "input_ids = tokenizer(\n",
    "    [\"<s>Human: 介绍一下台灣\\n</s><s>Assistant: \"],\n",
    "    return_tensors=\"pt\",\n",
    "    add_special_tokens=False,\n",
    ").input_ids.to(\"mps\")\n",
    "generate_input = {\n",
    "    \"input_ids\": input_ids,\n",
    "    \"max_new_tokens\": 512,\n",
    "    \"do_sample\": True,\n",
    "    \"top_k\": 50,\n",
    "    \"top_p\": 0.95,\n",
    "    \"temperature\": 0.3,\n",
    "    \"repetition_penalty\": 1.3,\n",
    "    \"eos_token_id\": tokenizer.eos_token_id,\n",
    "    \"bos_token_id\": tokenizer.bos_token_id,\n",
    "    \"pad_token_id\": tokenizer.pad_token_id,\n",
    "}\n",
    "generate_ids = model.generate(**generate_input)\n",
    "text = tokenizer.decode(generate_ids[0])\n",
    "print(text)"
   ]
  },
  {
   "cell_type": "code",
   "execution_count": null,
   "metadata": {},
   "outputs": [],
   "source": []
  }
 ],
 "metadata": {
  "kernelspec": {
   "display_name": ".venv",
   "language": "python",
   "name": "python3"
  },
  "language_info": {
   "codemirror_mode": {
    "name": "ipython",
    "version": 3
   },
   "file_extension": ".py",
   "mimetype": "text/x-python",
   "name": "python",
   "nbconvert_exporter": "python",
   "pygments_lexer": "ipython3",
   "version": "3.10.13"
  }
 },
 "nbformat": 4,
 "nbformat_minor": 2
}
